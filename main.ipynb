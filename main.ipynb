{
 "cells": [
  {
   "cell_type": "markdown",
   "metadata": {},
   "source": [
    "# 1. importing libraries\n"
   ]
  },
  {
   "cell_type": "code",
   "execution_count": null,
   "metadata": {},
   "outputs": [],
   "source": [
    "import pandas as pd     # csv file handling\n",
    "import os   # file manipulation\n",
    "import shutil   # file manipulation\n",
    "import matplotlib.pyplot as plt # labelling plots"
   ]
  },
  {
   "cell_type": "markdown",
   "metadata": {},
   "source": [
    "# 2. reading csv files"
   ]
  },
  {
   "cell_type": "code",
   "execution_count": null,
   "metadata": {},
   "outputs": [],
   "source": [
    "# creation of dataframes\n",
    "csv_train = pd.read_csv(\"./Image data/Training_Set/RFMid_Training_labels.csv\")\n",
    "csv_test = pd.read_csv(\"./Image data/Test_Set/RFMid_Testing_labels.csv\")\n",
    "csv_eval = pd.read_csv(\"./Image data/Evaluation_Set/RFMid_Validation_labels.csv\")\n"
   ]
  },
  {
   "cell_type": "markdown",
   "metadata": {},
   "source": [
    "# 3. creating subdirectories to place healthy and unhealthy retinal images\n"
   ]
  },
  {
   "cell_type": "code",
   "execution_count": null,
   "metadata": {},
   "outputs": [],
   "source": [
    "# extracting the current directory\n",
    "directory = os.getcwd()\n",
    "directory = os.path.join(directory, \"Image data\\\\\")\n",
    "# iterating through the subdirectories\n",
    "for dir in os.listdir(directory):\n",
    "    d = os.path.join(directory, dir)\n",
    "    if os.path.isdir(d):\n",
    "        # creating subdirectories\n",
    "        p1 = os.path.join(d, \"healthy\\\\\")\n",
    "        p2 = os.path.join(d, \"unhealthy\\\\\")\n",
    "        os.mkdir(p1)\n",
    "        os.mkdir(p2)\n"
   ]
  },
  {
   "cell_type": "markdown",
   "metadata": {},
   "source": [
    "# 4. extracting disease risk data into new dataframes\n"
   ]
  },
  {
   "cell_type": "code",
   "execution_count": null,
   "metadata": {},
   "outputs": [],
   "source": [
    "# creating new dataframes to contain only ID and Disease Risk\n",
    "train_risk = csv_train[['ID', 'Disease_Risk']].copy()\n",
    "test_risk = csv_test[['ID', 'Disease_Risk']].copy()\n",
    "eval_risk = csv_eval[['ID', 'Disease_Risk']].copy()\n",
    "\n",
    "# conversion from binary representation to string for easier classification\n",
    "train_risk['Disease_Risk'] = train_risk['Disease_Risk'].replace(\n",
    "    1, \"healthy\").astype(str)\n",
    "train_risk['Disease_Risk'] = train_risk['Disease_Risk'].replace(\n",
    "    '0', \"unhealthy\").astype(str)\n",
    "test_risk['Disease_Risk'] = test_risk['Disease_Risk'].replace(\n",
    "    1, \"healthy\").astype(str)\n",
    "test_risk['Disease_Risk'] = test_risk['Disease_Risk'].replace(\n",
    "    '0', \"unhealthy\").astype(str)\n",
    "eval_risk['Disease_Risk'] = eval_risk['Disease_Risk'].replace(\n",
    "    1, \"healthy\").astype(str)\n",
    "eval_risk['Disease_Risk'] = eval_risk['Disease_Risk'].replace(\n",
    "    '0', \"unhealthy\").astype(str)\n"
   ]
  },
  {
   "cell_type": "markdown",
   "metadata": {},
   "source": [
    "# 5. plotting of graphs according to disease to compare\n"
   ]
  },
  {
   "cell_type": "markdown",
   "metadata": {},
   "source": [
    "## 5.1. training set\n"
   ]
  },
  {
   "cell_type": "code",
   "execution_count": null,
   "metadata": {},
   "outputs": [],
   "source": [
    "# creating a new dataframe to make frequency plots\n",
    "train_plot = csv_train.copy()\n",
    "# dropping irrelevant columns\n",
    "train_plot.drop(\"ID\", axis=1, inplace=True)\n",
    "train_plot.drop(\"Disease_Risk\", axis=1, inplace=True)\n",
    "# summation of columns\n",
    "train_plot = train_plot.sum()\n",
    "# plotting of bar graph\n",
    "ax = train_plot.plot.bar(figsize=(30, 30))\n",
    "ax.bar_label(ax.containers[0])\n",
    "plt.xlabel('Diseases')\n",
    "plt.ylabel('Frequency')\n"
   ]
  },
  {
   "cell_type": "markdown",
   "metadata": {},
   "source": [
    "## 5.2. testing set\n"
   ]
  },
  {
   "cell_type": "code",
   "execution_count": null,
   "metadata": {},
   "outputs": [],
   "source": [
    "# creating a new dataframe to make frequency plots\n",
    "test_plot=csv_test.copy()\n",
    "# dropping irrelevant columns\n",
    "test_plot.drop(\"ID\",axis=1,inplace=True)\n",
    "test_plot.drop(\"Disease_Risk\",axis=1,inplace=True)\n",
    "# summation of columns\n",
    "test_plot = test_plot.sum()\n",
    "# plotting of bar graph\n",
    "ax=test_plot.plot.bar(figsize=(30,30))\n",
    "ax.bar_label(ax.containers[0])\n",
    "plt.xlabel('Diseases')\n",
    "plt.ylabel('Frequency')"
   ]
  },
  {
   "cell_type": "markdown",
   "metadata": {},
   "source": [
    "## 5.3. evaluation set\n"
   ]
  },
  {
   "cell_type": "code",
   "execution_count": null,
   "metadata": {},
   "outputs": [],
   "source": [
    "# creating a new dataframe to make frequency plots\n",
    "eval_plot = csv_eval.copy()\n",
    "# dropping irrelevant columns\n",
    "eval_plot.drop(\"ID\", axis=1, inplace=True)\n",
    "eval_plot.drop(\"Disease_Risk\", axis=1, inplace=True)\n",
    "# summation of columns\n",
    "eval_plot = eval_plot.sum()\n",
    "# plotting of bar graph\n",
    "ax = eval_plot.plot.bar(figsize=(30, 30))\n",
    "ax.bar_label(ax.containers[0])\n",
    "plt.xlabel('Diseases')\n",
    "plt.ylabel('Frequency')\n"
   ]
  },
  {
   "cell_type": "markdown",
   "metadata": {},
   "source": [
    "# 6. plotting healthy and unhealthy retinal statistics\n"
   ]
  },
  {
   "cell_type": "markdown",
   "metadata": {},
   "source": [
    "## 6.1. training set\n"
   ]
  },
  {
   "cell_type": "code",
   "execution_count": null,
   "metadata": {},
   "outputs": [],
   "source": [
    "# plotting of frequency of retinal health\n",
    "ax = train_risk['Disease_Risk'].value_counts().plot.bar()\n",
    "ax.bar_label(ax.containers[0])\n",
    "plt.xlabel('Condition')\n",
    "plt.ylabel('Frequency')\n"
   ]
  },
  {
   "cell_type": "markdown",
   "metadata": {},
   "source": [
    "## 6.2. testing set\n"
   ]
  },
  {
   "cell_type": "code",
   "execution_count": null,
   "metadata": {},
   "outputs": [],
   "source": [
    "# plotting of frequency of retinal health\n",
    "ax = test_risk['Disease_Risk'].value_counts().plot.bar()\n",
    "ax.bar_label(ax.containers[0])\n",
    "plt.xlabel('Condition')\n",
    "plt.ylabel('Frequency')\n"
   ]
  },
  {
   "cell_type": "markdown",
   "metadata": {},
   "source": [
    "## 6.3. evaluation set\n"
   ]
  },
  {
   "cell_type": "code",
   "execution_count": null,
   "metadata": {},
   "outputs": [],
   "source": [
    "# plotting of frequency of retinal health\n",
    "ax = eval_risk['Disease_Risk'].value_counts().plot.bar()\n",
    "ax.bar_label(ax.containers[0])\n",
    "plt.xlabel('Condition')\n",
    "plt.ylabel('Frequency')\n"
   ]
  },
  {
   "cell_type": "markdown",
   "metadata": {},
   "source": [
    "# 7. segregating images into healthy and unhealthy subdirectories\n"
   ]
  },
  {
   "cell_type": "markdown",
   "metadata": {},
   "source": [
    "## 7.1. training set\n"
   ]
  },
  {
   "cell_type": "code",
   "execution_count": null,
   "metadata": {},
   "outputs": [],
   "source": [
    "# iterating through rows of dataframe\n",
    "for index, row in train_risk.iterrows():\n",
    "    # initialising source and destination paths\n",
    "    src = os.path.join(directory, \"Training_Set\\\\Training\\\\\"+str(index+1)+\".png\")\n",
    "    healthy = os.path.join(directory, \"Training_Set\\\\healthy\\\\\"+str(index+1)+\".png\")\n",
    "    unhealthy = os.path.join(directory, \"Training_Set\\\\unhealthy\\\\\"+str(index+1)+\".png\")\n",
    "    # moving of files\n",
    "    if row['Disease_Risk'] == \"healthy\":\n",
    "        shutil.move(src, healthy)\n",
    "    else:\n",
    "        shutil.move(src, unhealthy)\n"
   ]
  },
  {
   "cell_type": "markdown",
   "metadata": {},
   "source": [
    "## 7.2. testing set\n"
   ]
  },
  {
   "cell_type": "code",
   "execution_count": null,
   "metadata": {},
   "outputs": [],
   "source": [
    "# iterating through rows of dataframe\n",
    "for index, row in test_risk.iterrows():\n",
    "    # initialising source and destination paths\n",
    "    src = os.path.join(directory, \"Test_Set\\\\Test\\\\\"+str(index+1)+\".png\")\n",
    "    healthy = os.path.join(directory, \"Test_Set\\\\healthy\\\\\"+str(index+1)+\".png\")\n",
    "    unhealthy = os.path.join(directory, \"Test_Set\\\\unhealthy\\\\\"+str(index+1)+\".png\")\n",
    "    # moving of files\n",
    "    if row['Disease_Risk'] == \"healthy\":\n",
    "        shutil.move(src, healthy)\n",
    "    else:\n",
    "        shutil.move(src, unhealthy)\n"
   ]
  },
  {
   "cell_type": "markdown",
   "metadata": {},
   "source": [
    "## 7.3. evaluation set\n"
   ]
  },
  {
   "cell_type": "code",
   "execution_count": null,
   "metadata": {},
   "outputs": [],
   "source": [
    "# iterating through rows of dataframe\n",
    "for index, row in eval_risk.iterrows():\n",
    "    # initialising source and destination paths\n",
    "    src = os.path.join(directory, \"Evaluation_Set\\\\Validation\\\\\"+str(index+1)+\".png\")\n",
    "    healthy = os.path.join(directory, \"Evaluation_Set\\\\healthy\\\\\"+str(index+1)+\".png\")\n",
    "    unhealthy = os.path.join(directory, \"Evaluation_Set\\\\unhealthy\\\\\"+str(index+1)+\".png\")\n",
    "    # moving of files\n",
    "    if row['Disease_Risk'] == \"healthy\":\n",
    "        shutil.move(src, healthy)\n",
    "    else:\n",
    "        shutil.move(src, unhealthy)\n"
   ]
  }
 ],
 "metadata": {
  "kernelspec": {
   "display_name": "Python 3.10.4 64-bit",
   "language": "python",
   "name": "python3"
  },
  "language_info": {
   "codemirror_mode": {
    "name": "ipython",
    "version": 3
   },
   "file_extension": ".py",
   "mimetype": "text/x-python",
   "name": "python",
   "nbconvert_exporter": "python",
   "pygments_lexer": "ipython3",
   "version": "3.10.4"
  },
  "orig_nbformat": 4,
  "vscode": {
   "interpreter": {
    "hash": "6636ba45faffc219cae2b87741d963292a78c82ff95ce9fb53c4afc5b5891e1b"
   }
  }
 },
 "nbformat": 4,
 "nbformat_minor": 2
}
