{
 "cells": [
  {
   "cell_type": "markdown",
   "metadata": {},
   "source": [
    "# 1. importing libraries"
   ]
  },
  {
   "cell_type": "code",
   "execution_count": null,
   "metadata": {},
   "outputs": [],
   "source": [
    "import pandas as pd     # csv file handling\n",
    "import os   # file manipulation\n",
    "import shutil   # file manipulation\n",
    "import matplotlib.pyplot as plt"
   ]
  },
  {
   "cell_type": "markdown",
   "metadata": {},
   "source": [
    "# 2. reading csv files "
   ]
  },
  {
   "cell_type": "code",
   "execution_count": null,
   "metadata": {},
   "outputs": [],
   "source": [
    "\n",
    "csv_train=pd.read_csv(\"./Image data/Training_Set/RFMid_Training_labels.csv\")\n",
    "csv_test=pd.read_csv(\"./Image data/Test_Set/RFMid_Testing_labels.csv\")\n",
    "csv_eval=pd.read_csv(\"./Image data/Evaluation_Set/RFMid_Validation_labels.csv\")\n"
   ]
  },
  {
   "cell_type": "markdown",
   "metadata": {},
   "source": [
    "# 3. creating subdirectories to place healthy and unhealthy retinal images"
   ]
  },
  {
   "cell_type": "code",
   "execution_count": null,
   "metadata": {},
   "outputs": [],
   "source": [
    "directory=os.getcwd()\n",
    "directory=os.path.join(directory,\"Image data\\\\\")\n",
    "for dir in os.listdir(directory):\n",
    "    d=os.path.join(directory,dir)\n",
    "    if os.path.isdir(d):\n",
    "        p1=os.path.join(d,\"healthy\\\\\")\n",
    "        p2=os.path.join(d,\"unhealthy\\\\\")\n",
    "        os.mkdir(p1)\n",
    "        os.mkdir(p2)\n",
    "        print(d)"
   ]
  },
  {
   "cell_type": "markdown",
   "metadata": {},
   "source": [
    "# 4. extracting disease risk data into new dataframes "
   ]
  },
  {
   "cell_type": "code",
   "execution_count": null,
   "metadata": {},
   "outputs": [],
   "source": [
    "train_risk=csv_train[['ID','Disease_Risk']].copy()\n",
    "test_risk=csv_test[['ID','Disease_Risk']].copy()\n",
    "eval_risk=csv_eval[['ID','Disease_Risk']].copy()\n",
    "# train_risk\n",
    "# test_risk\n",
    "# eval_risk\n",
    "\n",
    "# conversion from binary representation to string for easier classification\n",
    "\n",
    "train_risk['Disease_Risk']=train_risk['Disease_Risk'].replace(1,\"healthy\").astype(str)\n",
    "train_risk['Disease_Risk']=train_risk['Disease_Risk'].replace('0',\"unhealthy\").astype(str)\n",
    "test_risk['Disease_Risk']=test_risk['Disease_Risk'].replace(1,\"healthy\").astype(str)\n",
    "test_risk['Disease_Risk']=test_risk['Disease_Risk'].replace('0',\"unhealthy\").astype(str)\n",
    "eval_risk['Disease_Risk']=eval_risk['Disease_Risk'].replace(1,\"healthy\").astype(str)\n",
    "eval_risk['Disease_Risk']=eval_risk['Disease_Risk'].replace('0',\"unhealthy\").astype(str)"
   ]
  },
  {
   "cell_type": "markdown",
   "metadata": {},
   "source": [
    "# 5. plotting of graphs according to disease to compare "
   ]
  },
  {
   "cell_type": "markdown",
   "metadata": {},
   "source": [
    "## 5.1. training set"
   ]
  },
  {
   "cell_type": "code",
   "execution_count": null,
   "metadata": {},
   "outputs": [],
   "source": [
    "train_plot=csv_train.copy()\n",
    "#train_plot\n",
    "train_plot.drop(\"ID\",axis=1,inplace=True)\n",
    "train_plot.drop(\"Disease_Risk\",axis=1,inplace=True)\n",
    "train_plot = train_plot.sum()\n",
    "ax=train_plot.plot.bar(figsize=(30,30))\n",
    "ax.bar_label(ax.containers[0])"
   ]
  },
  {
   "cell_type": "markdown",
   "metadata": {},
   "source": [
    "\n",
    "## 5.2. testing set"
   ]
  },
  {
   "cell_type": "code",
   "execution_count": null,
   "metadata": {},
   "outputs": [],
   "source": [
    "test_plot=csv_test.copy()\n",
    "#train_plot\n",
    "test_plot.drop(\"ID\",axis=1,inplace=True)\n",
    "test_plot.drop(\"Disease_Risk\",axis=1,inplace=True)\n",
    "test_plot = test_plot.sum()\n",
    "ax=test_plot.plot.bar(figsize=(30,30))\n",
    "ax.bar_label(ax.containers[0])"
   ]
  },
  {
   "cell_type": "markdown",
   "metadata": {},
   "source": [
    "\n",
    "## 5.3. evaluation set"
   ]
  },
  {
   "cell_type": "code",
   "execution_count": null,
   "metadata": {},
   "outputs": [],
   "source": [
    "eval_plot=csv_eval.copy()\n",
    "#train_plot\n",
    "eval_plot.drop(\"ID\",axis=1,inplace=True)\n",
    "eval_plot.drop(\"Disease_Risk\",axis=1,inplace=True)\n",
    "eval_plot = eval_plot.sum()\n",
    "ax=eval_plot.plot.bar(figsize=(30,30))\n",
    "ax.bar_label(ax.containers[0])"
   ]
  },
  {
   "cell_type": "markdown",
   "metadata": {},
   "source": [
    "# 6. plotting healthy and unhealthy retinal statistics"
   ]
  },
  {
   "cell_type": "markdown",
   "metadata": {},
   "source": [
    "## 6.1. training set"
   ]
  },
  {
   "cell_type": "code",
   "execution_count": null,
   "metadata": {},
   "outputs": [],
   "source": [
    "ax=train_risk['Disease_Risk'].value_counts().plot.bar()\n",
    "ax.bar_label(ax.containers[0])\n"
   ]
  },
  {
   "cell_type": "markdown",
   "metadata": {},
   "source": [
    "## 6.2. testing set"
   ]
  },
  {
   "cell_type": "code",
   "execution_count": null,
   "metadata": {},
   "outputs": [],
   "source": [
    "ax=test_risk['Disease_Risk'].value_counts().plot.bar()\n",
    "ax.bar_label(ax.containers[0])\n"
   ]
  },
  {
   "cell_type": "markdown",
   "metadata": {},
   "source": [
    "## 6.3. evaluation set"
   ]
  },
  {
   "cell_type": "code",
   "execution_count": null,
   "metadata": {},
   "outputs": [],
   "source": [
    "ax=eval_risk['Disease_Risk'].value_counts().plot.bar()\n",
    "ax.bar_label(ax.containers[0])\n"
   ]
  },
  {
   "cell_type": "markdown",
   "metadata": {},
   "source": [
    "# 7. segregating images into healthy and unhealthy subdirectories"
   ]
  },
  {
   "cell_type": "markdown",
   "metadata": {},
   "source": [
    "## 7.1. training set"
   ]
  },
  {
   "cell_type": "code",
   "execution_count": null,
   "metadata": {},
   "outputs": [],
   "source": [
    "for index, row in train_risk.iterrows():\n",
    "    src=os.path.join(directory,\"Training_Set\\\\Training\\\\\"+str(index+1)+\".png\")\n",
    "    healthy=os.path.join(directory,\"Training_Set\\\\healthy\\\\\"+str(index+1)+\".png\")\n",
    "    unhealthy=os.path.join(directory,\"Training_Set\\\\unhealthy\\\\\"+str(index+1)+\".png\")\n",
    "    if row['Disease_Risk']==\"healthy\":\n",
    "        shutil.move(src,healthy)\n",
    "    else:\n",
    "        shutil.move(src,unhealthy)\n",
    "        "
   ]
  },
  {
   "cell_type": "markdown",
   "metadata": {},
   "source": [
    "## 7.2. testing set"
   ]
  },
  {
   "cell_type": "code",
   "execution_count": 73,
   "metadata": {},
   "outputs": [],
   "source": [
    "for index, row in test_risk.iterrows():\n",
    "    src=os.path.join(directory,\"Test_Set\\\\Test\\\\\"+str(index+1)+\".png\")\n",
    "    healthy=os.path.join(directory,\"Test_Set\\\\healthy\\\\\"+str(index+1)+\".png\")\n",
    "    unhealthy=os.path.join(directory,\"Test_Set\\\\unhealthy\\\\\"+str(index+1)+\".png\")\n",
    "    if row['Disease_Risk']==\"healthy\":\n",
    "        shutil.move(src,healthy)\n",
    "    else:\n",
    "        shutil.move(src,unhealthy)\n",
    "        "
   ]
  },
  {
   "cell_type": "markdown",
   "metadata": {},
   "source": [
    "## 7.3. evaluation set"
   ]
  },
  {
   "cell_type": "code",
   "execution_count": 74,
   "metadata": {},
   "outputs": [],
   "source": [
    "for index, row in eval_risk.iterrows():\n",
    "    src=os.path.join(directory,\"Evaluation_Set\\\\Validation\\\\\"+str(index+1)+\".png\")\n",
    "    healthy=os.path.join(directory,\"Evaluation_Set\\\\healthy\\\\\"+str(index+1)+\".png\")\n",
    "    unhealthy=os.path.join(directory,\"Evaluation_Set\\\\unhealthy\\\\\"+str(index+1)+\".png\")\n",
    "    if row['Disease_Risk']==\"healthy\":\n",
    "        shutil.move(src,healthy)\n",
    "    else:\n",
    "        shutil.move(src,unhealthy)\n",
    "        "
   ]
  }
 ],
 "metadata": {
  "kernelspec": {
   "display_name": "Python 3.10.4 64-bit",
   "language": "python",
   "name": "python3"
  },
  "language_info": {
   "codemirror_mode": {
    "name": "ipython",
    "version": 3
   },
   "file_extension": ".py",
   "mimetype": "text/x-python",
   "name": "python",
   "nbconvert_exporter": "python",
   "pygments_lexer": "ipython3",
   "version": "3.10.4"
  },
  "orig_nbformat": 4,
  "vscode": {
   "interpreter": {
    "hash": "6636ba45faffc219cae2b87741d963292a78c82ff95ce9fb53c4afc5b5891e1b"
   }
  }
 },
 "nbformat": 4,
 "nbformat_minor": 2
}
